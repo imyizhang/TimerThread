{
 "cells": [
  {
   "cell_type": "markdown",
   "metadata": {},
   "source": [
    "# TimerThread\n",
    "\n",
    "## `@task` Decorator"
   ]
  },
  {
   "cell_type": "code",
   "execution_count": 1,
   "metadata": {},
   "outputs": [],
   "source": [
    "import functools\n",
    "\n",
    "\n",
    "class task(object):\n",
    "\n",
    "    def __init__(self, trigger, interval):\n",
    "        self.trigger = trigger\n",
    "        self.interval = interval\n",
    "\n",
    "    def __call__(self, fn):\n",
    "        @functools.wraps(fn)\n",
    "        def sched(*args, **kwargs):\n",
    "            scheduler_kwargs = {\n",
    "                'trigger': self.trigger,\n",
    "                'interval': self.interval,\n",
    "                'fn': fn,\n",
    "                'args': args,\n",
    "                'kwargs': kwargs\n",
    "            }            \n",
    "            return Scheduler.create(**scheduler_kwargs)\n",
    "        fn.sched = sched\n",
    "        return fn"
   ]
  },
  {
   "cell_type": "markdown",
   "metadata": {},
   "source": [
    "## Scheduler\n",
    "\n",
    "Based on [Lib/threading.py](https://github.com/python/cpython/blob/3.7/Lib/threading.py#L1153)"
   ]
  },
  {
   "cell_type": "code",
   "execution_count": 2,
   "metadata": {},
   "outputs": [],
   "source": [
    "TIMEFORMAT = '%Y-%m-%d %H:%M:%S %Z'\n",
    "\n",
    "import threading\n",
    "import time\n",
    "\n",
    "\n",
    "class Scheduler(threading.Thread):\n",
    "    \n",
    "    def __init__(self, trigger, interval, fn, args=(), kwargs={}):\n",
    "        super().__init__()        \n",
    "        if trigger not in ['delay', 'recur']:\n",
    "            raise ValueError('trigger must be \"delay\" or \"recur\"')             \n",
    "        self.trigger = trigger\n",
    "        self.interval = interval\n",
    "        self.fn = fn\n",
    "        self.args = args\n",
    "        self.kwargs = kwargs        \n",
    "        self._event = threading.Event()\n",
    "        self._stopped = True\n",
    "        self._result = []\n",
    "    \n",
    "    # Scheduler constructor\n",
    "    @classmethod\n",
    "    def create(cls, **scheduler_kwargs):\n",
    "        return cls(**scheduler_kwargs)\n",
    "    \n",
    "    @property   \n",
    "    def stopped(self):\n",
    "        return self._stopped\n",
    "    \n",
    "    @property\n",
    "    def result(self):\n",
    "        return dict(self._result)\n",
    "        \n",
    "    def run(self):\n",
    "        self._stopped = self._event.is_set()  # False\n",
    "        if self.trigger == 'delay':\n",
    "            self._delay()\n",
    "        elif self.trigger == 'recur':\n",
    "            self._recur()           \n",
    "            \n",
    "    def _delay(self):\n",
    "        if not self._stopped:\n",
    "            self._event.wait(timeout=self.interval)\n",
    "            self._execute()\n",
    "            \n",
    "    def _recur(self):\n",
    "        while not self._stopped:\n",
    "            self._execute()\n",
    "            self._event.wait(timeout=self.interval)\n",
    "                                    \n",
    "    def _execute(self):\n",
    "        self._fn(self.args, self.kwargs)\n",
    "        \n",
    "    def _fn(self, args, kwargs):\n",
    "        return_value = self.fn(*args, **kwargs)\n",
    "        if return_value:\n",
    "            timestamp = time.strftime(TIMEFORMAT, time.localtime())\n",
    "            self._result.append( (timestamp, return_value) )\n",
    "    \n",
    "    # threads can only be started once\n",
    "    # i.e. cannot start again once cancelled\n",
    "    def cancel(self):\n",
    "        self._event.set()\n",
    "        self._stopped = self._event.is_set()  # True"
   ]
  },
  {
   "cell_type": "markdown",
   "metadata": {},
   "source": [
    "## Install TimerThread"
   ]
  },
  {
   "cell_type": "code",
   "execution_count": 3,
   "metadata": {},
   "outputs": [
    {
     "name": "stdout",
     "output_type": "stream",
     "text": [
      "Requirement already satisfied: timerthread in /Users/yizhang/Documents/Workspace/parser/parser-env/lib/python3.7/site-packages (0.1.1)\r\n"
     ]
    }
   ],
   "source": [
    "!pip install timerthread\n",
    "\n",
    "from timerthread import task, Scheduler"
   ]
  },
  {
   "cell_type": "markdown",
   "metadata": {},
   "source": [
    "## Example"
   ]
  },
  {
   "cell_type": "code",
   "execution_count": 4,
   "metadata": {},
   "outputs": [],
   "source": [
    "import time\n",
    "\n",
    "@task('recur', 3)\n",
    "def now(cost=0):\n",
    "    time.sleep(cost)\n",
    "    print( time.strftime('%Y-%m-%d %H:%M:%S %Z', time.localtime()) ) "
   ]
  },
  {
   "cell_type": "code",
   "execution_count": 5,
   "metadata": {},
   "outputs": [],
   "source": [
    "timer = now.sched(cost=1)\n",
    "timer.start()"
   ]
  },
  {
   "cell_type": "code",
   "execution_count": 6,
   "metadata": {
    "scrolled": true
   },
   "outputs": [
    {
     "name": "stdout",
     "output_type": "stream",
     "text": [
      "2020-12-13 04:28:49 CET\n"
     ]
    }
   ],
   "source": [
    "timer.cancel()"
   ]
  }
 ],
 "metadata": {
  "kernelspec": {
   "display_name": "Python 3",
   "language": "python",
   "name": "python3"
  },
  "language_info": {
   "codemirror_mode": {
    "name": "ipython",
    "version": 3
   },
   "file_extension": ".py",
   "mimetype": "text/x-python",
   "name": "python",
   "nbconvert_exporter": "python",
   "pygments_lexer": "ipython3",
   "version": "3.7.7"
  }
 },
 "nbformat": 4,
 "nbformat_minor": 4
}
